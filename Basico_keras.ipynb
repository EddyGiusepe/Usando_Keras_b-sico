{
  "nbformat": 4,
  "nbformat_minor": 0,
  "metadata": {
    "colab": {
      "name": "Basico_keras.ipynb",
      "provenance": [],
      "mount_file_id": "1Amvq7OqxX_SfbQzijaF57rGR5DaYpgk-",
      "authorship_tag": "ABX9TyPJJtUKh3Afcg5/GYHWSEPI",
      "include_colab_link": true
    },
    "kernelspec": {
      "name": "python3",
      "display_name": "Python 3"
    }
  },
  "cells": [
    {
      "cell_type": "markdown",
      "metadata": {
        "id": "view-in-github",
        "colab_type": "text"
      },
      "source": [
        "<a href=\"https://colab.research.google.com/github/EddyGiusepe/Usando_Keras_b-sico/blob/main/Basico_keras.ipynb\" target=\"_parent\"><img src=\"https://colab.research.google.com/assets/colab-badge.svg\" alt=\"Open In Colab\"/></a>"
      ]
    },
    {
      "cell_type": "markdown",
      "metadata": {
        "id": "yOhShf3VVpqH"
      },
      "source": [
        "<font color='red'>Usando Keras (Tuturial do YouTube)</font>\r\n",
        "\r\n",
        "O site pode ser encontrado [aqui](https://people.sc.fsu.edu/~jburkardt/datasets/regression/regression.html).\r\n",
        "\r\n",
        "Descrição:\r\n",
        "\r\n",
        "* Este é um Dataset de pressão sanguinia vs idade.\r\n",
        "* Usaremos a livraria Keras."
      ]
    },
    {
      "cell_type": "markdown",
      "metadata": {
        "id": "xUeuAwO2YHGx"
      },
      "source": [
        "<font color='blue'>Importando livrarias</font>"
      ]
    },
    {
      "cell_type": "code",
      "metadata": {
        "id": "nLNEQIgTUuQO"
      },
      "source": [
        "import pandas as pd\r\n",
        "import numpy as np\r\n",
        "import matplotlib.pyplot as plt\r\n",
        "\r\n",
        "\r\n",
        "from keras.models import Sequential\r\n",
        "from keras.layers.core import Dense\r\n",
        "from keras.optimizers import SGD\r\n",
        "\r\n"
      ],
      "execution_count": 1,
      "outputs": []
    },
    {
      "cell_type": "markdown",
      "metadata": {
        "id": "xLh1uDe8YZXV"
      },
      "source": [
        "<font color='blue'>Leitura e visualização dos Dados</font>"
      ]
    },
    {
      "cell_type": "code",
      "metadata": {
        "id": "Sm3iJr4HYJjb"
      },
      "source": [
        "datos = pd.read_csv('/content/drive/MyDrive/Apenas_TensorFlow_Eddy/Tutorial_Basico_De_Keras/dataset.csv',\r\n",
        "                    sep=\",\", skiprows=32, usecols=[2,3])"
      ],
      "execution_count": 8,
      "outputs": []
    },
    {
      "cell_type": "code",
      "metadata": {
        "colab": {
          "base_uri": "https://localhost:8080/",
          "height": 194
        },
        "id": "ktI1Ic4IYpMj",
        "outputId": "2b610b5d-d322-4399-ff79-626e3c0d5590"
      },
      "source": [
        "datos.head()"
      ],
      "execution_count": 10,
      "outputs": [
        {
          "output_type": "execute_result",
          "data": {
            "text/html": [
              "<div>\n",
              "<style scoped>\n",
              "    .dataframe tbody tr th:only-of-type {\n",
              "        vertical-align: middle;\n",
              "    }\n",
              "\n",
              "    .dataframe tbody tr th {\n",
              "        vertical-align: top;\n",
              "    }\n",
              "\n",
              "    .dataframe thead th {\n",
              "        text-align: right;\n",
              "    }\n",
              "</style>\n",
              "<table border=\"1\" class=\"dataframe\">\n",
              "  <thead>\n",
              "    <tr style=\"text-align: right;\">\n",
              "      <th></th>\n",
              "      <th>Age</th>\n",
              "      <th>Systolic blood pressure</th>\n",
              "    </tr>\n",
              "  </thead>\n",
              "  <tbody>\n",
              "    <tr>\n",
              "      <th>0</th>\n",
              "      <td>39</td>\n",
              "      <td>144</td>\n",
              "    </tr>\n",
              "    <tr>\n",
              "      <th>1</th>\n",
              "      <td>45</td>\n",
              "      <td>138</td>\n",
              "    </tr>\n",
              "    <tr>\n",
              "      <th>2</th>\n",
              "      <td>47</td>\n",
              "      <td>145</td>\n",
              "    </tr>\n",
              "    <tr>\n",
              "      <th>3</th>\n",
              "      <td>65</td>\n",
              "      <td>162</td>\n",
              "    </tr>\n",
              "    <tr>\n",
              "      <th>4</th>\n",
              "      <td>46</td>\n",
              "      <td>142</td>\n",
              "    </tr>\n",
              "  </tbody>\n",
              "</table>\n",
              "</div>"
            ],
            "text/plain": [
              "   Age  Systolic blood pressure\n",
              "0   39                      144\n",
              "1   45                      138\n",
              "2   47                      145\n",
              "3   65                      162\n",
              "4   46                      142"
            ]
          },
          "metadata": {
            "tags": []
          },
          "execution_count": 10
        }
      ]
    },
    {
      "cell_type": "markdown",
      "metadata": {
        "id": "7ELQ-PRMZ9h0"
      },
      "source": [
        "Grafiando os Dados!\r\n",
        "\r\n",
        "Ao graficar observamos uma tendencia linear:"
      ]
    },
    {
      "cell_type": "code",
      "metadata": {
        "colab": {
          "base_uri": "https://localhost:8080/",
          "height": 279
        },
        "id": "Bd4kALfcZhFG",
        "outputId": "3c2b2bcb-c735-4d90-f2d0-6a0174024767"
      },
      "source": [
        "datos.plot.scatter(x='Age', y='Systolic blood pressure')\r\n",
        "plt.xlabel('Idade (anos)')\r\n",
        "plt.ylabel('Pressão sistólica (mmHg)')\r\n",
        "plt.show()"
      ],
      "execution_count": 12,
      "outputs": [
        {
          "output_type": "display_data",
          "data": {
            "image/png": "[encoded data removed]",
            "text/plain": [
              "<Figure size 432x288 with 1 Axes>"
            ]
          },
          "metadata": {
            "tags": [],
            "needs_background": "light"
          }
        }
      ]
    },
    {
      "cell_type": "markdown",
      "metadata": {
        "id": "Im-SR_1zbBll"
      },
      "source": [
        "Nossas variáveis:"
      ]
    },
    {
      "cell_type": "code",
      "metadata": {
        "id": "D97SGl1PZhJN"
      },
      "source": [
        "x = datos['Age'].values\r\n",
        "y = datos['Systolic blood pressure'].values"
      ],
      "execution_count": 14,
      "outputs": []
    },
    {
      "cell_type": "markdown",
      "metadata": {
        "id": "geFNKsM5bHWO"
      },
      "source": [
        "<font color='blue'>Construimos nosso modelo com Keras</font>\r\n",
        "\r\n",
        "* Camada de entrada: 1 dado (cada dado \"x\" correspondente à idade).\r\n",
        "\r\n",
        "* Camada de saída: 1 dado (cada dado \"y\" correspondente à regressão linear).\r\n",
        "\r\n",
        "* Função de ativação: 'linear' (porque estamos implementando a regressão linear)."
      ]
    },
    {
      "cell_type": "code",
      "metadata": {
        "id": "z6xFEioHZhL5"
      },
      "source": [
        "# Para reproduzir o treinamento\r\n",
        "\r\n",
        "np.random.seed(2) "
      ],
      "execution_count": 15,
      "outputs": []
    },
    {
      "cell_type": "code",
      "metadata": {
        "id": "y8eGmhyZZhOd"
      },
      "source": [
        "input_dim = 1\r\n",
        "output_dim = 1\r\n",
        "modelo = Sequential()\r\n",
        "modelo.add(Dense(output_dim, input_dim = input_dim, activation='linear'))"
      ],
      "execution_count": 16,
      "outputs": []
    },
    {
      "cell_type": "markdown",
      "metadata": {
        "id": "uG8Dvxssclel"
      },
      "source": [
        "Definição do método de otimização (gradiente descendente), com uma  taxa de aprendizagem de $0.0004$ e uma pérdida igual ao erro quadrático medio."
      ]
    },
    {
      "cell_type": "code",
      "metadata": {
        "id": "5UGSCe4KZhQu"
      },
      "source": [
        "sgd = SGD(lr=0.0004)\r\n",
        "modelo.compile(loss='mse', optimizer=sgd)"
      ],
      "execution_count": 17,
      "outputs": []
    },
    {
      "cell_type": "code",
      "metadata": {
        "colab": {
          "base_uri": "https://localhost:8080/"
        },
        "id": "aml7uzg2ZhTB",
        "outputId": "63e6b0b3-d631-4f9b-c46c-66cc7b44a13d"
      },
      "source": [
        "# Imprimir na tela a informação do modelo\r\n",
        "modelo.summary()"
      ],
      "execution_count": 18,
      "outputs": [
        {
          "output_type": "stream",
          "text": [
            "Model: \"sequential\"\n",
            "_________________________________________________________________\n",
            "Layer (type)                 Output Shape              Param #   \n",
            "=================================================================\n",
            "dense (Dense)                (None, 1)                 2         \n",
            "=================================================================\n",
            "Total params: 2\n",
            "Trainable params: 2\n",
            "Non-trainable params: 0\n",
            "_________________________________________________________________\n"
          ],
          "name": "stdout"
        }
      ]
    },
    {
      "cell_type": "markdown",
      "metadata": {
        "id": "RrsKI-TRdwX2"
      },
      "source": [
        "<font color='blue'>Treinamento (regressão linear)</font>\r\n",
        "\r\n",
        "Temos 40\\,000 iterações e todos os dados de treinamento ($29$) se usarão em cada iteração (<font color='red'>batch_size = 29</font>)"
      ]
    },
    {
      "cell_type": "code",
      "metadata": {
        "id": "w6Bq2TeBZhVV"
      },
      "source": [
        "num_epochs = 40000\r\n",
        "batch_size = x.shape[0]\r\n",
        "history = modelo.fit(x, y, epochs=num_epochs, batch_size=batch_size, verbose=0)"
      ],
      "execution_count": 19,
      "outputs": []
    },
    {
      "cell_type": "markdown",
      "metadata": {
        "id": "8LDgjbrRemMk"
      },
      "source": [
        "A seguir, visualizamos nossos resultados de treinamento:"
      ]
    },
    {
      "cell_type": "code",
      "metadata": {
        "colab": {
          "base_uri": "https://localhost:8080/"
        },
        "id": "bMSbE4MmZhXq",
        "outputId": "94461673-368c-4fe7-ee3f-6174a4205aec"
      },
      "source": [
        "# Imprimir los coeficientes \"w\" y \"b\"\r\n",
        "\r\n",
        "capas = modelo.layers[0]\r\n",
        "w, b = capas.get_weights()\r\n",
        "print('Parámetros: w = {:.1f}, b = {:.1f}'.format(w[0][0],b[0]))"
      ],
      "execution_count": 20,
      "outputs": [
        {
          "output_type": "stream",
          "text": [
            "Parámetros: w = 1.0, b = 93.5\n"
          ],
          "name": "stdout"
        }
      ]
    },
    {
      "cell_type": "code",
      "metadata": {
        "colab": {
          "base_uri": "https://localhost:8080/",
          "height": 295
        },
        "id": "4ozYd4HzZhZx",
        "outputId": "ead99529-e99d-441a-c566-1c54523027dd"
      },
      "source": [
        "# Graficamos o erro vs épocas e o resultado da regressão superposto aos dados originales\r\n",
        "plt.subplot(1,2,1)\r\n",
        "plt.plot(history.history['loss'])\r\n",
        "plt.xlabel('epoch')\r\n",
        "plt.ylabel('ECM')\r\n",
        "plt.title('ECM vs. epochs')\r\n",
        "\r\n",
        "\r\n",
        "\r\n",
        "y_regr = modelo.predict(x)\r\n",
        "plt.subplot(1, 2, 2)\r\n",
        "plt.scatter(x,y)\r\n",
        "plt.plot(x,y_regr,'r')\r\n",
        "plt.xlabel('x')\r\n",
        "plt.ylabel('y')\r\n",
        "plt.title('Dados e regressão linear')\r\n",
        "plt.show()"
      ],
      "execution_count": 27,
      "outputs": [
        {
          "output_type": "display_data",
          "data": {
            "image/png": "[encoded data removed]",
            "text/plain": [
              "<Figure size 432x288 with 2 Axes>"
            ]
          },
          "metadata": {
            "tags": [],
            "needs_background": "light"
          }
        }
      ]
    },
    {
      "cell_type": "markdown",
      "metadata": {
        "id": "bWikUDq2fwbw"
      },
      "source": [
        "<font color='blue'>Predição</font>\r\n",
        "\r\n",
        "Realizamos algumas predições com nosso modelo Linear."
      ]
    },
    {
      "cell_type": "code",
      "metadata": {
        "colab": {
          "base_uri": "https://localhost:8080/"
        },
        "id": "B6BouQ9xZhcH",
        "outputId": "78719c87-69db-4d96-b7c1-ac4f7b88bbb7"
      },
      "source": [
        "x_pred = np.array([39])\r\n",
        "y_pred = modelo.predict(x_pred)\r\n",
        "print(\"A pressão sanguínea será de {:.1f} mmHg\".format(y_pred[0][0]), \" para uma pessoa de {} años\".format(x_pred[0]))\r\n"
      ],
      "execution_count": 32,
      "outputs": [
        {
          "output_type": "stream",
          "text": [
            "A pressão sanguínea será de 133.3 mmHg  para uma pessoa de 39 años\n"
          ],
          "name": "stdout"
        }
      ]
    },
    {
      "cell_type": "code",
      "metadata": {
        "id": "avwIc0inZheH"
      },
      "source": [
        ""
      ],
      "execution_count": null,
      "outputs": []
    }
  ]
}